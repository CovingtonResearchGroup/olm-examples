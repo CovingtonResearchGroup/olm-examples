{
 "cells": [
  {
   "cell_type": "markdown",
   "id": "e6acf4db-bdaf-4515-b589-0d0bf5df9e87",
   "metadata": {},
   "source": [
    "## Example geochemical calculations using data logger data "
   ]
  },
  {
   "cell_type": "code",
   "execution_count": null,
   "id": "ef93aaac-9e59-4c3e-b8bc-0b2ba145e918",
   "metadata": {},
   "outputs": [],
   "source": [
    "#Check whether we are running on Colab or locally.\n",
    "try:\n",
    "    import google.colab\n",
    "    IN_COLAB = True\n",
    "    base_path = 'https://raw.githubusercontent.com/CovingtonResearchGroup/olm-examples/dataloggers/'\n",
    "except:\n",
    "    IN_COLAB = False\n",
    "    base_path = './'\n",
    "print('Base working path for data files is',base_path)"
   ]
  },
  {
   "cell_type": "code",
   "execution_count": null,
   "id": "d9f6fb9d-24a0-4052-b4ab-46ef5eda2f6f",
   "metadata": {},
   "outputs": [],
   "source": [
    "#If olm isn't already installed (or if you're running in Colab), then run this cell of code.\n",
    "!pip install olm-karst"
   ]
  },
  {
   "cell_type": "code",
   "execution_count": null,
   "id": "685a07b6-14a5-4387-b791-92b8f2dd35df",
   "metadata": {},
   "outputs": [],
   "source": [
    "#We will run in pylab mode, to import plotting functions.\n",
    "%pylab inline"
   ]
  },
  {
   "cell_type": "code",
   "execution_count": null,
   "id": "5a8f4ffc-c1ac-46b0-8c2d-2197717465c8",
   "metadata": {},
   "outputs": [],
   "source": [
    "from olm.loggers.CampbellToolkit import read_dat\n",
    "#Read in water quality data\n",
    "Langle_water = read_dat(base_path + 'data/CR800_Langle_Water.dat')\n",
    "Langle_water.head()"
   ]
  },
  {
   "cell_type": "code",
   "execution_count": null,
   "id": "b2e289cd-9e55-4e33-ba16-9b25af2962d9",
   "metadata": {},
   "outputs": [],
   "source": [
    "#Read in dissolved CO2 data\n",
    "Langle_CO2 = read_dat(base_path + 'data/CR800_Langle_CarbonDioxide.dat')\n",
    "Langle_CO2.head()"
   ]
  },
  {
   "cell_type": "markdown",
   "id": "a9cdfea4-e88c-43e4-a1d3-edb654ed9597",
   "metadata": {},
   "source": [
    "#### Join and resample dataframes"
   ]
  },
  {
   "cell_type": "code",
   "execution_count": null,
   "id": "c4319761-dec4-4d5c-adc1-e2c7831b2438",
   "metadata": {},
   "outputs": [],
   "source": [
    "from olm.loggers.loggerScripts import joinAndResampleLoggers\n",
    "Langle = joinAndResampleLoggers([Langle_water, Langle_CO2], '1H', suffixes=['water','CO2'])\n",
    "Langle.head()"
   ]
  },
  {
   "cell_type": "markdown",
   "id": "d07d1763-4941-4e6b-a7cb-8ce8d2ca0c00",
   "metadata": {},
   "source": [
    "#### Converting raw conductivity to specific conductance at 25 C"
   ]
  },
  {
   "cell_type": "code",
   "execution_count": null,
   "id": "f2ca9bd4-a888-4d75-9ff7-62e9e4449e2e",
   "metadata": {},
   "outputs": [],
   "source": [
    "from olm.general import condTo25\n",
    "\n",
    "#Filter out bad values during download\n",
    "Langle['2013-05-25 18:00':'2013-05-25 19:00'] = np.nan\n",
    "Langle = Langle.dropna()\n",
    "#Convert raw conductivity muS/cm\n",
    "Cond_raw = 1000* Langle.Ct_Avg_water \n",
    "T_C = Langle.Temp_C_c_Avg_water\n",
    "\n",
    "#Calculate temperature corrected SpC\n",
    "SpC = condTo25(Cond_raw,T_C)\n",
    "Cond_raw.plot()\n",
    "SpC.plot()\n",
    "ylabel(r'Conductivity ($\\mu S/cm$)')\n",
    "legend(['Raw cond', 'SpC at 25 C']);"
   ]
  },
  {
   "cell_type": "markdown",
   "id": "f7966e7a-5932-4dbd-bc36-bbabedb6a316",
   "metadata": {},
   "source": [
    "#### Estimating Ca hardness from SpC"
   ]
  },
  {
   "cell_type": "code",
   "execution_count": null,
   "id": "a9da5c8b-1fa9-4d82-b335-20a2079537a3",
   "metadata": {},
   "outputs": [],
   "source": [
    "from olm.general import CaFromCond\n",
    "Ca = CaFromCond(SpC, T_C=T_C)\n",
    "#Note this function uses a global relation between hardness and SpC. A local relation\n",
    "#for the site will be more accurate (though still an estimate).\n",
    "Ca.plot()\n",
    "ylabel('Estimated Ca (mg/L)')\n",
    "#Add Ca column into Langle DataFrame\n"
   ]
  },
  {
   "cell_type": "markdown",
   "id": "688a51d7-f337-4eb2-870d-2e6fbc140df3",
   "metadata": {},
   "source": [
    "#### Creating a Series of solution objects"
   ]
  },
  {
   "cell_type": "code",
   "execution_count": null,
   "id": "c0016b57-4bb1-4cc6-bf29-09ec29b1dc24",
   "metadata": {},
   "outputs": [],
   "source": [
    "from olm.loggers.loggerScripts import joinAndResampleLoggers\n",
    "from olm.calcite import solutionFromCaPCO2Relaxed\n",
    "from olm.general import mgL_to_molL\n",
    "\n",
    "#Convert raw voltage value to pCO2 in atm\n",
    "volts_to_ppm = 10\n",
    "ppm_to_atm = 1e-6\n",
    "CO2 = volts_to_ppm*ppm_to_atm*Langle.CO2_Avg_CO2\n",
    "#Convert Ca to mol/L\n",
    "Ca_mol_L = mgL_to_molL(Ca, 'Ca')\n",
    "Langle_sols = solutionFromCaPCO2(Ca_mol_L, CO2, T_C=T_C)\n"
   ]
  },
  {
   "cell_type": "code",
   "execution_count": null,
   "id": "ce4aecdd-5cad-4c36-9428-afb017676937",
   "metadata": {},
   "outputs": [],
   "source": [
    "#Now we have a Pandas Series of solution objects. We can use this to do lots of cool things.\n",
    "Langle_sols.head()"
   ]
  },
  {
   "cell_type": "markdown",
   "id": "c4c23b36-42bb-47ed-b3d8-baca1d998060",
   "metadata": {},
   "source": [
    "#### Calculate equilibrium Ca concentration w.r.t. Calcite for entire solution series"
   ]
  },
  {
   "cell_type": "code",
   "execution_count": null,
   "id": "a44fbfb9-06c7-4a9a-9c21-088fed1700fc",
   "metadata": {},
   "outputs": [],
   "source": [
    "from olm.calcite import concCaEqFromSolution\n",
    "CaEq = concCaEqFromSolution(Langle_sols)\n",
    "CaEq.plot()\n",
    "ylabel('Equilibrium Ca (mol/L)')"
   ]
  },
  {
   "cell_type": "markdown",
   "id": "57d5ec6a-ac27-4303-84e9-927e0f6a6b56",
   "metadata": {},
   "source": [
    "#### Calculate saturation ratio ($\\rm{[Ca]/[Ca_{eq}]}$)"
   ]
  },
  {
   "cell_type": "code",
   "execution_count": null,
   "id": "883a7910-31b1-4f1e-bb77-c8f081e5b819",
   "metadata": {},
   "outputs": [],
   "source": [
    "Sat_ratio = Ca_mol_L/CaEq\n",
    "Sat_ratio.plot()\n",
    "axhline(y=1, linestyle='--',color='k')\n",
    "ax = gca()\n",
    "text(0.75,0.85, 'Saturation line', transform=ax.transAxes)\n",
    "ylabel(r'$\\rm{[Ca]/[Ca_{eq}]}$');"
   ]
  },
  {
   "cell_type": "markdown",
   "id": "a4fc8ea5-4104-4898-8d0c-b1be284a9ec5",
   "metadata": {},
   "source": [
    "#### Estimate calcite dissolution rates"
   ]
  },
  {
   "cell_type": "code",
   "execution_count": null,
   "id": "add46abb-3715-40e6-961b-650e731257c1",
   "metadata": {},
   "outputs": [],
   "source": [
    "from olm.calcite import palmerFromSolution\n",
    "R = palmerFromSolution(Langle_sols, rho=2.6, impure=True)\n",
    "R.plot()\n",
    "ylabel('Dissolution rate (mm/yr)');"
   ]
  },
  {
   "cell_type": "code",
   "execution_count": null,
   "id": "350247a2-f21a-468a-bfe7-5781087f8ab5",
   "metadata": {},
   "outputs": [],
   "source": []
  }
 ],
 "metadata": {
  "kernelspec": {
   "display_name": "Python 3",
   "language": "python",
   "name": "python3"
  },
  "language_info": {
   "codemirror_mode": {
    "name": "ipython",
    "version": 3
   },
   "file_extension": ".py",
   "mimetype": "text/x-python",
   "name": "python",
   "nbconvert_exporter": "python",
   "pygments_lexer": "ipython3",
   "version": "3.8.8"
  }
 },
 "nbformat": 4,
 "nbformat_minor": 5
}
