{
 "cells": [
  {
   "cell_type": "markdown",
   "id": "11cb1b8a-101e-4070-9bf4-0cb7fd69a5e8",
   "metadata": {},
   "source": [
    "## Working with USGS data"
   ]
  },
  {
   "cell_type": "markdown",
   "id": "29f49760-e068-49fa-9c4e-73d80ce500ab",
   "metadata": {},
   "source": [
    "*Olm* contains a variety of functions for retrieving discharge and water quality data from NWIS, the USGS water database. These functions are contained within the [`olm.USGS`](https://olm.readthedocs.io/en/master/olm.USGS.html) package."
   ]
  },
  {
   "cell_type": "code",
   "execution_count": null,
   "id": "d9efa36b-1510-4990-b9f7-965869f17f04",
   "metadata": {},
   "outputs": [],
   "source": [
    "#Check whether we are running on Colab or locally.\n",
    "try:\n",
    "    import google.colab\n",
    "    IN_COLAB = True\n",
    "    base_path = 'https://raw.githubusercontent.com/CovingtonResearchGroup/olm-examples/main/'\n",
    "except:\n",
    "    IN_COLAB = False\n",
    "    base_path = './'\n",
    "print('Base working path for data files is',base_path)\n"
   ]
  },
  {
   "cell_type": "code",
   "execution_count": null,
   "id": "8332c663-07be-400f-9486-b650f4f69e8e",
   "metadata": {},
   "outputs": [],
   "source": [
    "#If olm isn't already installed (or if you're running in Colab), then run this cell of code.\n",
    "!pip install olm-karst"
   ]
  },
  {
   "cell_type": "code",
   "execution_count": 8,
   "id": "e4483037-e7e8-4e7d-968d-f747ce5dc1c8",
   "metadata": {},
   "outputs": [
    {
     "name": "stdout",
     "output_type": "stream",
     "text": [
      "Populating the interactive namespace from numpy and matplotlib\n"
     ]
    }
   ],
   "source": [
    "#We will run in pylab mode, to import plotting functions.\n",
    "%pylab inline"
   ]
  },
  {
   "cell_type": "markdown",
   "id": "b9869da0-da45-4f97-a5c1-33df6912f212",
   "metadata": {},
   "source": [
    "#### Obtaining metadata about a USGS site"
   ]
  },
  {
   "cell_type": "code",
   "execution_count": 2,
   "id": "27fe4da5-de94-419a-8576-72c91492a620",
   "metadata": {},
   "outputs": [
    {
     "data": {
      "text/plain": [
       "OrganizationIdentifier                                                                       USGS-AR\n",
       "OrganizationFormalName                                            USGS Arkansas Water Science Center\n",
       "MonitoringLocationIdentifier                                                           USGS-07056000\n",
       "MonitoringLocationName                                                Buffalo River near St. Joe, AR\n",
       "MonitoringLocationTypeName                                                                    Stream\n",
       "MonitoringLocationDescriptionText                                                                NaN\n",
       "HUCEightDigitCode                                                                           11010005\n",
       "DrainageAreaMeasure/MeasureValue                                                                 829\n",
       "DrainageAreaMeasure/MeasureUnitCode                                                            sq mi\n",
       "ContributingDrainageAreaMeasure/MeasureValue                                                     NaN\n",
       "ContributingDrainageAreaMeasure/MeasureUnitCode                                                  NaN\n",
       "LatitudeMeasure                                                                            35.983056\n",
       "LongitudeMeasure                                                                          -92.747222\n",
       "SourceMapScaleNumeric                                                                            NaN\n",
       "HorizontalAccuracyMeasure/MeasureValue                                                            10\n",
       "HorizontalAccuracyMeasure/MeasureUnitCode                                                    seconds\n",
       "HorizontalCollectionMethodName                     Mapping grade GPS unit (handheld accuracy rang...\n",
       "HorizontalCoordinateReferenceSystemDatumName                                                   NAD83\n",
       "VerticalMeasure/MeasureValue                                                                  555.85\n",
       "VerticalMeasure/MeasureUnitCode                                                                 feet\n",
       "VerticalAccuracyMeasure/MeasureValue                                                             0.2\n",
       "VerticalAccuracyMeasure/MeasureUnitCode                                                         feet\n",
       "VerticalCollectionMethodName                                         Level or other surveyed method.\n",
       "VerticalCoordinateReferenceSystemDatumName                                                    NAVD88\n",
       "CountryCode                                                                                       US\n",
       "StateCode                                                                                          5\n",
       "CountyCode                                                                                       129\n",
       "AquiferName                                                                                      NaN\n",
       "FormationTypeText                                                                                NaN\n",
       "AquiferTypeName                                                                                  NaN\n",
       "ConstructionDateText                                                                             NaN\n",
       "WellDepthMeasure/MeasureValue                                                                    NaN\n",
       "WellDepthMeasure/MeasureUnitCode                                                                 NaN\n",
       "WellHoleDepthMeasure/MeasureValue                                                                NaN\n",
       "WellHoleDepthMeasure/MeasureUnitCode                                                             NaN\n",
       "ProviderName                                                                                    NWIS\n",
       "Name: 0, dtype: object"
      ]
     },
     "execution_count": 2,
     "metadata": {},
     "output_type": "execute_result"
    }
   ],
   "source": [
    "from olm.USGS.DataRetrieval import GetSiteData\n",
    "#Use a USGS site number to retrieve the data\n",
    "site_no = 'USGS-07056000' #Buffalo River near St Joe, AR\n",
    "\n",
    "StJoe_meta = GetSiteData(site_no)\n",
    "StJoe_meta"
   ]
  },
  {
   "cell_type": "markdown",
   "id": "d8a58aee-c296-4960-8461-b617b5e7e27c",
   "metadata": {},
   "source": [
    "#### Obtaining daily discharge values"
   ]
  },
  {
   "cell_type": "markdown",
   "id": "9fb2f933-d1f0-456a-a551-98fb440dd37a",
   "metadata": {},
   "source": [
    "You can obtain a daily average discharge value for a given date using [`olm.USGS.DataRetrieval.GetDailyDischarge()`](https://olm.readthedocs.io/en/master/olm.USGS.DataRetrieval.GetDailyDischarge.html#olm.USGS.DataRetrieval.GetDailyDischarge)"
   ]
  },
  {
   "cell_type": "code",
   "execution_count": 4,
   "id": "9587d4c9-a810-40aa-969d-17038e8c234a",
   "metadata": {},
   "outputs": [
    {
     "name": "stdout",
     "output_type": "stream",
     "text": [
      "Discharge query html:  https://waterservices.usgs.gov/nwis/dv?format=waterml,1.1&sites=07056000&startDT=2021-01-01&endDT=2021-01-01\n",
      "{'discharge': '6830', 'quality': 'P', 'name': 'Buffalo River near St. Joe, AR'}\n"
     ]
    }
   ],
   "source": [
    "from olm.USGS.DataRetrieval import GetDailyDischarge\n",
    "Q = GetDailyDischarge(site_no, '2021-01-01')\n",
    "#Discharge and some additional metadata are returned in a dictionary\n",
    "print(Q)"
   ]
  },
  {
   "cell_type": "code",
   "execution_count": 5,
   "id": "eed075e6-6e9b-4d28-8036-d27b14b65ecc",
   "metadata": {},
   "outputs": [
    {
     "name": "stdout",
     "output_type": "stream",
     "text": [
      "Mean discharge on January 1, 2021 was 6830 cfs\n"
     ]
    }
   ],
   "source": [
    "print('Mean discharge on January 1, 2021 was',Q['discharge'], 'cfs')"
   ]
  },
  {
   "cell_type": "markdown",
   "id": "68d04756-2017-40bb-8f48-1fcf5d707b5b",
   "metadata": {},
   "source": [
    "You can obtain a mean daily discharge record for a longer period using  [`olm.USGS.DataRetrieval.GetDailyDischargeRecord()`](https://olm.readthedocs.io/en/master/olm.USGS.DataRetrieval.GetDailyDischargeRecord.html#olm.USGS.DataRetrieval.GetDailyDischargeRecord)."
   ]
  },
  {
   "cell_type": "code",
   "execution_count": 12,
   "id": "18457172-3e91-412a-a0f2-6322039e920d",
   "metadata": {},
   "outputs": [
    {
     "data": {
      "text/plain": [
       "Text(0, 0.5, 'Stream flow (cfs)')"
      ]
     },
     "execution_count": 12,
     "metadata": {},
     "output_type": "execute_result"
    },
    {
     "data": {
      "image/png": "[encoded data removed]",
      "text/plain": [
       "<Figure size 432x288 with 1 Axes>"
      ]
     },
     "metadata": {
      "needs_background": "light"
     },
     "output_type": "display_data"
    }
   ],
   "source": [
    "from olm.USGS.DataRetrieval import GetDailyDischargeRecord\n",
    "StJoe_Q = GetDailyDischargeRecord(site_no, '2010-01-01', '2020-12-31')\n",
    "#Discharge and some additional metadata are returned in a dictionary\n",
    "StJoe_Q.plot(logy=True)\n",
    "ylabel('Stream flow (cfs)')"
   ]
  },
  {
   "cell_type": "markdown",
   "id": "ae09bf62-8a34-4d3e-b292-0fca06671bed",
   "metadata": {},
   "source": [
    "### Automatic queries of water quality data"
   ]
  },
  {
   "cell_type": "markdown",
   "id": "f48d2745-0fd1-4a9b-a260-3014d41af7ae",
   "metadata": {},
   "source": [
    "The most powerful functionality of the `olm.USGS` package lies in its ability to query, download, and process large sets of water quality data from a list of USGS sites. To set up one of these queries, you need to create or modify two files.\n",
    "1. Create a text file that contains a list of the site numbers of interest, each on its own line.\n",
    "2. Modify the runWQXtoPandas Excel file to provide the desired chemical parameters to query and a variety of other settings that control the query and how the data are stored (open the [provided Excel file](https://raw.githubusercontent.com/CovingtonResearchGroup/olm-examples/USGS/USGS/runWQXtoPandas-Buffalo-Start-File.xls) to see an example)."
   ]
  },
  {
   "cell_type": "code",
   "execution_count": null,
   "id": "891eea40-cc45-4f1a-a113-8a815d431513",
   "metadata": {},
   "outputs": [],
   "source": []
  }
 ],
 "metadata": {
  "kernelspec": {
   "display_name": "Python 3",
   "language": "python",
   "name": "python3"
  },
  "language_info": {
   "codemirror_mode": {
    "name": "ipython",
    "version": 3
   },
   "file_extension": ".py",
   "mimetype": "text/x-python",
   "name": "python",
   "nbconvert_exporter": "python",
   "pygments_lexer": "ipython3",
   "version": "3.8.8"
  }
 },
 "nbformat": 4,
 "nbformat_minor": 5
}
