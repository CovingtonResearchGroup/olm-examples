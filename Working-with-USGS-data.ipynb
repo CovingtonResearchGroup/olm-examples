{
 "cells": [
  {
   "cell_type": "markdown",
   "id": "11cb1b8a-101e-4070-9bf4-0cb7fd69a5e8",
   "metadata": {},
   "source": [
    "## Working with USGS data"
   ]
  },
  {
   "cell_type": "markdown",
   "id": "29f49760-e068-49fa-9c4e-73d80ce500ab",
   "metadata": {},
   "source": [
    "*Olm* contains a variety of functions for retrieving discharge and water quality data from NWIS, the USGS water database. These functions are contained within the [`olm.USGS`](https://olm.readthedocs.io/en/master/olm.USGS.html) package."
   ]
  },
  {
   "cell_type": "code",
   "execution_count": null,
   "id": "d9efa36b-1510-4990-b9f7-965869f17f04",
   "metadata": {},
   "outputs": [],
   "source": [
    "#Check whether we are running on Colab or locally.\n",
    "try:\n",
    "    import google.colab\n",
    "    IN_COLAB = True\n",
    "    base_path = 'https://raw.githubusercontent.com/CovingtonResearchGroup/olm-examples/main/'\n",
    "except:\n",
    "    IN_COLAB = False\n",
    "    base_path = './'\n",
    "print('Base working path for data files is',base_path)\n"
   ]
  },
  {
   "cell_type": "code",
   "execution_count": null,
   "id": "8332c663-07be-400f-9486-b650f4f69e8e",
   "metadata": {},
   "outputs": [],
   "source": [
    "#If olm isn't already installed (or if you're running in Colab), then run this cell of code.\n",
    "!pip install olm-karst"
   ]
  },
  {
   "cell_type": "code",
   "execution_count": null,
   "id": "e4483037-e7e8-4e7d-968d-f747ce5dc1c8",
   "metadata": {},
   "outputs": [],
   "source": [
    "#We will run in pylab mode, to import plotting functions.\n",
    "%pylab inline"
   ]
  },
  {
   "cell_type": "markdown",
   "id": "b9869da0-da45-4f97-a5c1-33df6912f212",
   "metadata": {},
   "source": [
    "#### Obtaining metadata about a USGS site"
   ]
  },
  {
   "cell_type": "code",
   "execution_count": null,
   "id": "27fe4da5-de94-419a-8576-72c91492a620",
   "metadata": {},
   "outputs": [],
   "source": [
    "from olm.USGS.DataRetrieval import GetSiteData\n",
    "#Use a USGS site number to retrieve the data\n",
    "site_no = 'USGS-07056000' #Buffalo River near St Joe, AR\n",
    "\n",
    "StJoe_meta = GetSiteData(site_no)\n",
    "StJoe_meta"
   ]
  },
  {
   "cell_type": "markdown",
   "id": "d8a58aee-c296-4960-8461-b617b5e7e27c",
   "metadata": {},
   "source": [
    "#### Obtaining daily discharge values"
   ]
  },
  {
   "cell_type": "markdown",
   "id": "9fb2f933-d1f0-456a-a551-98fb440dd37a",
   "metadata": {},
   "source": [
    "You can obtain a daily average discharge value for a given date using [`olm.USGS.DataRetrieval.GetDailyDischarge()`](https://olm.readthedocs.io/en/master/olm.USGS.DataRetrieval.GetDailyDischarge.html#olm.USGS.DataRetrieval.GetDailyDischarge)"
   ]
  },
  {
   "cell_type": "code",
   "execution_count": null,
   "id": "9587d4c9-a810-40aa-969d-17038e8c234a",
   "metadata": {},
   "outputs": [],
   "source": [
    "from olm.USGS.DataRetrieval import GetDailyDischarge\n",
    "Q = GetDailyDischarge(site_no, '2021-01-01')\n",
    "#Discharge and some additional metadata are returned in a dictionary\n",
    "print(Q)"
   ]
  },
  {
   "cell_type": "code",
   "execution_count": null,
   "id": "eed075e6-6e9b-4d28-8036-d27b14b65ecc",
   "metadata": {},
   "outputs": [],
   "source": [
    "print('Mean discharge on January 1, 2021 was',Q['discharge'], 'cfs')"
   ]
  },
  {
   "cell_type": "markdown",
   "id": "68d04756-2017-40bb-8f48-1fcf5d707b5b",
   "metadata": {},
   "source": [
    "You can obtain a mean daily discharge record for a longer period using  [`olm.USGS.DataRetrieval.GetDailyDischargeRecord()`](https://olm.readthedocs.io/en/master/olm.USGS.DataRetrieval.GetDailyDischargeRecord.html#olm.USGS.DataRetrieval.GetDailyDischargeRecord)."
   ]
  },
  {
   "cell_type": "code",
   "execution_count": null,
   "id": "18457172-3e91-412a-a0f2-6322039e920d",
   "metadata": {},
   "outputs": [],
   "source": [
    "from olm.USGS.DataRetrieval import GetDailyDischargeRecord\n",
    "StJoe_Q = GetDailyDischargeRecord(site_no, '2010-01-01', '2020-12-31')\n",
    "#Discharge and some additional metadata are returned in a dictionary\n",
    "StJoe_Q.plot(logy=True)\n",
    "ylabel('Stream flow (cfs)')"
   ]
  },
  {
   "cell_type": "markdown",
   "id": "ae09bf62-8a34-4d3e-b292-0fca06671bed",
   "metadata": {},
   "source": [
    "### Automatic queries of water quality data"
   ]
  },
  {
   "cell_type": "markdown",
   "id": "f48d2745-0fd1-4a9b-a260-3014d41af7ae",
   "metadata": {},
   "source": [
    "The most powerful functionality of the `olm.USGS` package lies in its ability to query, download, and process large sets of water quality data from a list of USGS sites. To set up one of these queries, you need to create or modify two files.\n",
    "1. Create a text file that contains a list of the site numbers of interest, each on its own line.\n",
    "2. Modify the runWQXtoPandas Excel file (called a start file) to provide the desired chemical parameters to query and a variety of other settings that control the query and how the data are stored (open the [provided Excel file](https://raw.githubusercontent.com/CovingtonResearchGroup/olm-examples/main/USGS/runWQXtoPandas-Buffalo-Start-File.xls) to see an example)."
   ]
  },
  {
   "cell_type": "code",
   "execution_count": null,
   "id": "8b6508f9-7ddf-48b5-9cc4-60ceb13d9bc8",
   "metadata": {},
   "outputs": [],
   "source": [
    "#If we are running in Colab, we need to create local files that contain \n",
    "#the site number list and start file.\n",
    "#We will download these from Github.\n",
    "if IN_COLAB:\n",
    "    import requests\n",
    "    %mkdir USGS\n",
    "    res = requests.get(base_path + 'USGS/Buffalo.txt')\n",
    "    with open('USGS/Buffalo.txt', 'w') as f:\n",
    "        f.write(res.text)\n",
    "    res = requests.get(base_path + 'USGS/runWQXtoPandas-Buffalo-Start-File.xls')\n",
    "    with open('USGS/runWQXtoPandas-Buffalo-Start-File.xls', 'wb') as f:\n",
    "      f.write(res.content)"
   ]
  },
  {
   "cell_type": "code",
   "execution_count": null,
   "id": "891eea40-cc45-4f1a-a113-8a815d431513",
   "metadata": {
    "tags": []
   },
   "outputs": [],
   "source": [
    "from olm.USGS.WQXtoPandas import runWQXtoPandas\n",
    "\n",
    "print('*********************************')\n",
    "print('**This will take a while to run**')\n",
    "print('*********************************')\n",
    "\n",
    "#This function is run on the start file\n",
    "runWQXtoPandas('USGS/runWQXtoPandas-Buffalo-Start-File.xls')\n"
   ]
  },
  {
   "cell_type": "markdown",
   "id": "eb703be5-9cf7-4f30-9c76-5c2dbce67fd4",
   "metadata": {},
   "source": [
    "### Analyzing USGS data retrieved via *Olm*"
   ]
  },
  {
   "cell_type": "markdown",
   "id": "04c30bb0-8a2e-4f05-adbf-4ef2160d21b8",
   "metadata": {},
   "source": [
    "To load the data from all sites in a query, you provide the site data directory to [`olm.USGS.loadWaterQualityData.loadSiteListData()`](https://olm.readthedocs.io/en/master/olm.USGS.loadWaterQualityData.loadSiteListData.html#olm.USGS.loadWaterQualityData.loadSiteListData)"
   ]
  },
  {
   "cell_type": "code",
   "execution_count": null,
   "id": "7ab7734e-db5a-48f7-8f3e-a2e02ae89e87",
   "metadata": {},
   "outputs": [],
   "source": [
    "from olm.USGS.loadWaterQualityData import loadSiteListData\n",
    "\n",
    "sitesDict = loadSiteListData(processedSitesDir='Buffalo/')"
   ]
  },
  {
   "cell_type": "code",
   "execution_count": null,
   "id": "bd533b3f-ed3a-43b4-8598-666e20ff6a0f",
   "metadata": {},
   "outputs": [],
   "source": [
    "#Data are accessed for each site using a dictionary key that is the site name\n",
    "sitesDict.keys()"
   ]
  },
  {
   "cell_type": "code",
   "execution_count": null,
   "id": "d8061e18-022d-4c2c-ad0f-1f0007eed17d",
   "metadata": {},
   "outputs": [],
   "source": [
    "#For each site, the site number will retrieve a DataFrame from sitesDict with  multiindexed columns \n",
    "mi = sitesDict['USGS-07056000'].columns\n",
    "\n",
    "print('Chemical parameters are:')\n",
    "print('------------------------')\n",
    "for prm in mi.levels[1]:\n",
    "  print(prm)\n",
    "print('')\n",
    "print('For each chemical parameter the following are stored:')\n",
    "print('-----------------------------------------------------')\n",
    "for prm in mi.levels[0]:\n",
    "  print(prm)\n"
   ]
  },
  {
   "cell_type": "code",
   "execution_count": null,
   "id": "2cd3899d-acef-427d-a3c0-6658a52da999",
   "metadata": {},
   "outputs": [],
   "source": [
    "#Normally, we will just want the data (get it, as below). \n",
    "#The other quality and metadata may also be useful and can \n",
    "#be obtained with the corresponding column name.\n",
    "StJoe = sitesDict['USGS-07056000']['data']\n",
    "Boxley = sitesDict['USGS-07055646']['data']"
   ]
  },
  {
   "cell_type": "code",
   "execution_count": null,
   "id": "f7b10467-fc60-4263-95c5-71d092de0a56",
   "metadata": {},
   "outputs": [],
   "source": [
    "#Each site has a DataFrame containing chemical parameters\n",
    "Boxley.head()"
   ]
  },
  {
   "cell_type": "markdown",
   "id": "fb955924-c818-4601-adef-4d570feb10b8",
   "metadata": {},
   "source": [
    "#### Making a basic plot using the data retrieved"
   ]
  },
  {
   "cell_type": "markdown",
   "id": "ed90e2d7-330e-4848-92a4-7360350712de",
   "metadata": {},
   "source": [
    "We will examine the relationship between Ca and discharge at the two sites."
   ]
  },
  {
   "cell_type": "code",
   "execution_count": null,
   "id": "7f123df2-a451-43a7-ba68-91f269d59a04",
   "metadata": {},
   "outputs": [],
   "source": [
    "loglog(StJoe['Stream flow, instantaneous'], StJoe['Calcium'], '.')\n",
    "loglog(Boxley['Stream flow, instantaneous'], Boxley['Calcium'], '.')\n",
    "ylabel('[Ca] (mg/L)')\n",
    "xlabel('Stream flow (cfs)')\n",
    "legend(['St Joe','Boxley'])"
   ]
  },
  {
   "cell_type": "markdown",
   "id": "c9324036-e78a-40a3-8430-6af98cb0f5e6",
   "metadata": {},
   "source": [
    "#### Basic carbonate calculations using the USGS data"
   ]
  },
  {
   "cell_type": "code",
   "execution_count": null,
   "id": "7a397572-c968-4ca0-a9a1-2d77ad73efc6",
   "metadata": {},
   "outputs": [],
   "source": [
    "from olm.calcite import solutionFrompHCaRelaxed, concCaEqFromSolution\n",
    "from olm.general import molL_to_mgL\n",
    "\n",
    "Boxley_sols = solutionFrompHCaRelaxed(Boxley['Calcium'], Boxley['pH'], T_C=Boxley['Temperature, water'])\n",
    "#Calculate saturation concentration of Ca and convert to mg/L\n",
    "Boxley_CaEq = molL_to_mgL(concCaEqFromSolution(Boxley_sols), 'Ca')\n",
    "Boxley_sat = Boxley['Calcium']/Boxley_CaEq\n",
    "\n",
    "StJoe_sols = solutionFrompHCaRelaxed(StJoe['Calcium'], StJoe['pH'], T_C=StJoe['Temperature, water'])\n",
    "#Calculate saturation concentration of Ca and convert to mg/L\n",
    "StJoe_CaEq = molL_to_mgL(concCaEqFromSolution(StJoe_sols), 'Ca')\n",
    "StJoe_sat = StJoe['Calcium']/StJoe_CaEq"
   ]
  },
  {
   "cell_type": "code",
   "execution_count": null,
   "id": "73d7a3e7-71b7-4b2c-81bf-b7bb43a0241b",
   "metadata": {},
   "outputs": [],
   "source": [
    "semilogx(Boxley['Stream flow, instantaneous'], Boxley_sat, '.')\n",
    "semilogx(StJoe['Stream flow, instantaneous'], StJoe_sat, '.')\n",
    "legend(['Boxley', 'St Joe'], loc='upper left')\n",
    "xlabel('Stream flow (cfs)')\n",
    "ylabel(r'$\\rm{[Ca]/[Ca]_{eq}}$');"
   ]
  },
  {
   "cell_type": "code",
   "execution_count": null,
   "id": "dbf898cd-2519-4948-afd5-c85e72c1adc7",
   "metadata": {},
   "outputs": [],
   "source": []
  }
 ],
 "metadata": {
  "kernelspec": {
   "display_name": "Python 3",
   "language": "python",
   "name": "python3"
  },
  "language_info": {
   "codemirror_mode": {
    "name": "ipython",
    "version": 3
   },
   "file_extension": ".py",
   "mimetype": "text/x-python",
   "name": "python",
   "nbconvert_exporter": "python",
   "pygments_lexer": "ipython3",
   "version": "3.8.8"
  }
 },
 "nbformat": 4,
 "nbformat_minor": 5
}
