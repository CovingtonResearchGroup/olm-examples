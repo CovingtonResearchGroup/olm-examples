{
 "cells": [
  {
   "cell_type": "markdown",
   "id": "69b85d0c-1090-4771-9845-13c32b62367d",
   "metadata": {},
   "source": [
    "## An Introduction to the Olm python package"
   ]
  },
  {
   "cell_type": "markdown",
   "id": "4c38ea3e-8903-40e8-bd94-84908723f64b",
   "metadata": {},
   "source": [
    "The python [*olm*](https://github.com/CovingtonResearchGroup/olm) package provides a variety of functions to make basic geochemical calculations for carbonate waters. "
   ]
  },
  {
   "cell_type": "code",
   "execution_count": null,
   "id": "3eb426f3-3192-4e39-b7a1-bd457f0db6d1",
   "metadata": {},
   "outputs": [],
   "source": [
    "#To install olm in the current session, use pip\n",
    "!pip install olm-karst"
   ]
  },
  {
   "cell_type": "markdown",
   "id": "0c37972d-8d6b-4659-803a-e9ab3936b979",
   "metadata": {},
   "source": [
    "## Solution objects"
   ]
  },
  {
   "cell_type": "markdown",
   "id": "6442ebef-59e4-4ff9-90fd-188010090ec2",
   "metadata": {},
   "source": [
    "Many of the functions either create or make use of a [`solution`](https://olm.readthedocs.io/en/master/olm.general.solution.html#olm.general.solution) object, which stores the chemical concentrations and other parameters (e.g. temperature, conductance) of the solution of interest."
   ]
  },
  {
   "cell_type": "markdown",
   "id": "d4ac57f8-49e9-4707-8a1e-6b6bc0b673f0",
   "metadata": {},
   "source": [
    "You can obtain the list of possible ions within a solution object using the `olm.general.getProperties()`"
   ]
  },
  {
   "cell_type": "code",
   "execution_count": null,
   "id": "48f74bcc-8327-4099-ad94-7c26521737f9",
   "metadata": {},
   "outputs": [],
   "source": [
    "from olm.general import getProperties"
   ]
  },
  {
   "cell_type": "code",
   "execution_count": null,
   "id": "e06f62b2-1d35-4d15-9470-c7f7eb618aca",
   "metadata": {},
   "outputs": [],
   "source": [
    "#The dictionary returned contains the available species, their weights, charges, and radii.\n",
    "getProperties()"
   ]
  },
  {
   "cell_type": "markdown",
   "id": "6ea09144-1d66-40de-b763-c229885ec7a2",
   "metadata": {},
   "source": [
    "You can create solution objects manually, as below, though this would be a relatively uncommon workflow."
   ]
  },
  {
   "cell_type": "code",
   "execution_count": null,
   "id": "1d1bddc7-ac89-485b-b23a-b780dbbdaba5",
   "metadata": {},
   "outputs": [],
   "source": [
    "from olm.general import solution\n",
    "\n",
    "#We will create a solution with a few of the species listed above\n",
    "ions = ['Ca','Cl','H2CO3']\n",
    "concentrations = [15,2.5,0.0006]\n",
    "sol = solution(ions,concentrations, units='mg/L')\n"
   ]
  },
  {
   "cell_type": "markdown",
   "id": "5fc6fc02-ba75-4db8-977d-b0d7788e39c2",
   "metadata": {},
   "source": [
    "Solutions have several convenience functions attached to them."
   ]
  },
  {
   "cell_type": "code",
   "execution_count": null,
   "id": "506533b8-0dc5-47ed-9b4d-cca5c0d3cb6f",
   "metadata": {},
   "outputs": [],
   "source": [
    "#You can retrieve the concentration in mg/L, mol/L or meq using mg(), mol(), or meq()\n",
    "print(\"Cl concentration is =\", sol.mg('Cl'), 'mg/L' )\n",
    "print(\"Cl concentration is =\", sol.mol('Cl'), 'mol/L' )\n",
    "print(\"Cl concentration is =\", sol.meq('Cl'), 'meq/L' )\n",
    "print(\" \")\n",
    "\n",
    "#You can retrieve the activity of a given species\n",
    "print(\"Activity of Ca is =\",sol.activity('Ca'),\"mol/L\")\n",
    "\n",
    "#You can calculate the charge balance\n",
    "print(\"The charge balance of the solution is\", sol.charge_balance(), '%')\n",
    "#Note that the charge doesn't balance well because we used a random set of species concentrations\n",
    "# that aren't physically realistic."
   ]
  },
  {
   "cell_type": "markdown",
   "id": "544e620c-dba7-4c25-b8ed-ef7dee841d30",
   "metadata": {},
   "source": [
    "## The olm.general module"
   ]
  },
  {
   "cell_type": "markdown",
   "id": "8c7f7238-6d82-411b-a014-ec085138e0d4",
   "metadata": {},
   "source": [
    "In addition to defining the `solution` object, the [`olm.general`](https://olm.readthedocs.io/en/master/olm.html#olm-general-module) module contains functions that are useful for some common geochemical calculations. A few examples are given below."
   ]
  },
  {
   "cell_type": "markdown",
   "id": "325b88fb-f700-40bf-a565-717b4de39302",
   "metadata": {},
   "source": [
    "#### Temperature conversion"
   ]
  },
  {
   "cell_type": "code",
   "execution_count": null,
   "id": "ee479541-754a-4a6c-a8a8-03dd00036eba",
   "metadata": {},
   "outputs": [],
   "source": [
    "from olm.general import CtoK, KtoC\n",
    "print('25 C is equal to', CtoK(25), 'K')\n"
   ]
  },
  {
   "cell_type": "markdown",
   "id": "4397eaec-a2ed-4c33-96b4-ff35ffed4985",
   "metadata": {},
   "source": [
    "#### Concentration conversions"
   ]
  },
  {
   "cell_type": "code",
   "execution_count": null,
   "id": "b6fe714b-5d5e-4dee-8df9-35a4abb28472",
   "metadata": {},
   "outputs": [],
   "source": [
    "from olm.general import molL_to_mgL, mgL_to_molL, mmolL_to_meqL, molL_to_meqL\n",
    "\n",
    "#Any of the above functions can be used to convert concentration units for any \n",
    "#species in the getProperties() dictionary shown above using the string that defines \n",
    "#the species.\n",
    "\n",
    "#For example, to convert mg/L to mol/L, just specify the concentration and a string that contains the \n",
    "# species name\n",
    "print(\"15 mg/L Ca is\", mgL_to_molL(15, 'Ca'),'mol/L Ca' )\n"
   ]
  },
  {
   "cell_type": "markdown",
   "id": "7ffc8a85-cb38-42e3-9b2c-5ecf78407183",
   "metadata": {},
   "source": [
    "#### Dealing with specific conductance data"
   ]
  },
  {
   "cell_type": "markdown",
   "id": "2fc7eed8-429c-4e92-ab31-95c7bea2ab55",
   "metadata": {},
   "source": [
    "The conductivity of a solution is often standardized to specific conductance at 25 C. Most field conductivity meters or data loggers can provide raw conductivity or specific conductance corrected to 25 C. The function [`condTo25()`](https://olm.readthedocs.io/en/master/olm.general.condTo25.html#olm.general.condTo25) will convert raw conductivity values to specific conductance at 25 C."
   ]
  },
  {
   "cell_type": "code",
   "execution_count": null,
   "id": "71d44614-4093-44bb-8a56-398d74fcd5ec",
   "metadata": {},
   "outputs": [],
   "source": [
    "from olm.general import condTo25\n",
    "raw_cond = 155\n",
    "temp = 4.3\n",
    "#The first argument is the raw conductivity value, the second is the temp\n",
    "#You can also provide an array or pandas Series object rather than a single value.\n",
    "condTo25(raw_cond, temp)"
   ]
  },
  {
   "cell_type": "markdown",
   "id": "4e5f4e41-f055-4e51-8d7d-f758a23296b1",
   "metadata": {},
   "source": [
    "Within carbonate waters, specific conductance is often used to estimate the hardness or calcium concentration. `olm.general` provides a couple of functions to make these estimates using a global relation from Krawczyk and Ford (2006). *While this approximation provides a rough number, such estimations are always better when made using a relationship built from water chemistry samples at the field site where you are working.* The two available functions are [`olm.general.condTo25()`](https://olm.readthedocs.io/en/master/olm.general.condTo25.html#olm.general.condTo25) and [`olm.general.HardnessFromCond()`](https://olm.readthedocs.io/en/master/olm.general.HardnessFromCond.html#olm.general.HardnessFromCond)"
   ]
  },
  {
   "cell_type": "code",
   "execution_count": null,
   "id": "2e9f47c8-a73a-4d23-9ca9-510da645a904",
   "metadata": {},
   "outputs": [],
   "source": [
    "from olm.general import CaFromCond, HardnessFromCond\n",
    "\n",
    "#For example, we could use our value of 155 above to estimate Ca concentration \n",
    "#(assuming low concentration of Mg and other unrelated ions, such as Cl and NO3)\n",
    "\n",
    "#Here we use a raw conductivity of 155 at 4.3 C and specify mol_L=False in order to obtain mg/L\n",
    "print('Ca concentration is approximately =',CaFromCond(155, T_C=4.3, mol_L=False),'mg/L')\n",
    "\n",
    "\n"
   ]
  },
  {
   "cell_type": "markdown",
   "id": "cfb89abf-c8e5-4a71-9f24-737cc361b292",
   "metadata": {},
   "source": [
    "## The olm.calcite module"
   ]
  },
  {
   "cell_type": "markdown",
   "id": "372078dc-50e0-46ef-bb6a-9dd8cb54f0ad",
   "metadata": {},
   "source": [
    "The [`olm.calcite`](https://olm.readthedocs.io/en/master/olm.html#olm-calcite-module) contains much of the central functionality of *olm*. It allows one to create `solution` objects from limited information, such as hardness and pCO2 or pH. The functions that create solutions undertake speciation calculations with the provided information assuming a pure $H_2 O-CO_2-CaCO_3$ system, which is a reasonable approximation for many carbonate waters."
   ]
  },
  {
   "cell_type": "markdown",
   "id": "259acae1-a6c0-42f3-a361-411544ded6a3",
   "metadata": {},
   "source": [
    "#### Creating `solution` objects from limited chemical parameters"
   ]
  },
  {
   "cell_type": "code",
   "execution_count": null,
   "id": "06ba5845-9c42-4ff2-bba3-f5bfbe5367b1",
   "metadata": {},
   "outputs": [],
   "source": [
    "from olm.calcite import solutionFromCaPCO2, solutionFrompHCaRelaxed"
   ]
  },
  {
   "cell_type": "code",
   "execution_count": null,
   "id": "c3698325-df8d-47d1-ae81-f89b210c789d",
   "metadata": {},
   "outputs": [],
   "source": [
    "Ca_mg_L = 33.5\n",
    "Ca_mol_L = mgL_to_molL(Ca_mg_L, 'Ca')\n",
    "pCO2 = 0.005 #atm\n",
    "#Create a solution object from Ca concentration (mol/L) and PCO2 (atm)\n",
    "sol1 = solutionFromCaPCO2(Ca_mol_L, pCO2, T_C=15.)"
   ]
  },
  {
   "cell_type": "markdown",
   "id": "c47aaf95-9a4a-4816-86db-625628648fb7",
   "metadata": {},
   "source": [
    "Below we can see a dictionary containing all of the species that were added to the solution in the speciation calculation conducted by *olm*."
   ]
  },
  {
   "cell_type": "code",
   "execution_count": null,
   "id": "92886033-cc01-4f68-968e-d2ed75eee4de",
   "metadata": {},
   "outputs": [],
   "source": [
    "sol1.ions"
   ]
  },
  {
   "cell_type": "code",
   "execution_count": null,
   "id": "fd11a206-80a2-4414-a818-93969f6c64a4",
   "metadata": {},
   "outputs": [],
   "source": [
    "#Olm also calculates the pH and stores it in the solution object\n",
    "sol1.pH"
   ]
  },
  {
   "cell_type": "markdown",
   "id": "ceb244c8-dea3-4011-bd42-bcb694ed10fc",
   "metadata": {},
   "source": [
    "Similarly, we could have used pH rather than pCO2."
   ]
  },
  {
   "cell_type": "code",
   "execution_count": null,
   "id": "e0b2bee6-e9c7-45c7-a19d-b931ec944a29",
   "metadata": {},
   "outputs": [],
   "source": [
    "pH = 7.26\n",
    "sol2 = solutionFrompHCaRelaxed(Ca_mol_L, pH, T_C=15.)\n",
    "sol2.ions"
   ]
  },
  {
   "cell_type": "markdown",
   "id": "0dbf2947-abf3-4f59-b0b6-23399a8f0a3a",
   "metadata": {},
   "source": [
    "#### Calcite saturation state"
   ]
  },
  {
   "cell_type": "markdown",
   "id": "7397d912-954c-4e51-9b9e-7ed612b2569d",
   "metadata": {},
   "source": [
    "The `olm.calcite` module contains many functions used to calculate solution equilibria with respect to calcite."
   ]
  },
  {
   "cell_type": "code",
   "execution_count": null,
   "id": "ff7f353f-d0d7-43eb-9791-60df76f8daf9",
   "metadata": {},
   "outputs": [],
   "source": [
    "from olm.calcite import concCaEqFromPCO2, concCaEqFromSolution, PCO2EqFromCa"
   ]
  },
  {
   "cell_type": "code",
   "execution_count": null,
   "id": "3a8b4378-eb7e-4b82-8ba5-dae1817b6ceb",
   "metadata": {},
   "outputs": [],
   "source": [
    "#You can calculate equilibrium Ca concentrations using pCO2\n",
    "print('Equilibrium Ca concentration at pCO2=0.0001 atm',concCaEqFromPCO2(0.005, T_C=15.),'mol/L')"
   ]
  },
  {
   "cell_type": "code",
   "execution_count": null,
   "id": "8c903789-1c06-49b7-8b13-320559824a79",
   "metadata": {},
   "outputs": [],
   "source": [
    "#Or equilibrium pCO2 for a given Ca concentration.\n",
    "print('Equilibrium pCO2 for Ca concentration of 0.000378 mol/L',PCO2EqFromCa(0.00148, T_C=15.),'atm')"
   ]
  },
  {
   "cell_type": "code",
   "execution_count": null,
   "id": "bc45cf54-4a93-4680-9789-14dac4944164",
   "metadata": {},
   "outputs": [],
   "source": [
    "#You can also calculate equilibrium Ca for a given solution object\n",
    "CaEq = concCaEqFromSolution(sol1)\n",
    "Ca = sol1.ions['Ca']['conc_mol']\n",
    "print('Equilibrium Ca concentration for sol1 is ',CaEq, 'mol/L')\n",
    "\n",
    "print(' ')\n",
    "\n",
    "print('Saturation ratio for sol1 is Ca/Ca_eq =', Ca/CaEq)"
   ]
  },
  {
   "cell_type": "markdown",
   "id": "1c893839-c385-4320-9d78-94375be4a12b",
   "metadata": {},
   "source": [
    "#### Using *olm* to estimate calcite dissolution rates"
   ]
  },
  {
   "cell_type": "markdown",
   "id": "339a0c8a-8a4a-46b2-8cd8-66efd45577a1",
   "metadata": {},
   "source": [
    "*Olm* contains two main methods for estimating calcite dissolution rates. One uses the **PWP equation** (three variations of this method are available), the other uses the equation from **Palmer (1991)**, which is based on the same experimental results but fits the data more closely near saturation."
   ]
  },
  {
   "cell_type": "markdown",
   "id": "d512eb09-19b5-4237-9831-4f326f8ec0fe",
   "metadata": {},
   "source": [
    "While it is possible to calculate PWP rates from activities of the relevant species, the simplest methods for calculating dissolution rates use solution objects."
   ]
  },
  {
   "cell_type": "code",
   "execution_count": null,
   "id": "d514e871-88e7-406e-b22b-9cd0a691ffdd",
   "metadata": {},
   "outputs": [],
   "source": [
    "from olm.calcite import pwpFromSolution, palmerFromSolution, pwp_to_mm_yr"
   ]
  },
  {
   "cell_type": "code",
   "execution_count": null,
   "id": "439b52b1-33e0-4250-8ca4-f158c7a15506",
   "metadata": {},
   "outputs": [],
   "source": [
    "#Calculating pwp rate from a solution object\n",
    "pwp_rate = pwpFromSolution(sol1)\n",
    "\n",
    "print('PWP rate =',pwp_rate,'mmol/cm^2/s')\n",
    "\n",
    "pwp_rate_mm_yr = pwp_to_mm_yr(pwp_rate, rho=2.6)#need density of calcite\n",
    "print('PWP rate = ',pwp_rate_mm_yr, 'mm/yr')\n"
   ]
  },
  {
   "cell_type": "code",
   "execution_count": null,
   "id": "79f1b0c5-8739-4e0b-871b-a85f390ac2c7",
   "metadata": {},
   "outputs": [],
   "source": [
    "#Calculating Palmer rate from a solution object\n",
    "palmer_rate = palmerFromSolution(sol1, impure=True)\n",
    "#impure sets whether to use Palmer equation for impure calcite (limestone) or pure calcite\n",
    "\n",
    "print('Palmer rate = ',palmer_rate, 'mm/yr')\n"
   ]
  },
  {
   "cell_type": "code",
   "execution_count": null,
   "id": "b1b728b8-722b-4e01-bf64-2cae547f11ac",
   "metadata": {},
   "outputs": [],
   "source": [
    "#One can also estimate dissolution rates directly from Ca and PCO2 values\n",
    "from olm.calcite import dissRateFromCaPCO2\n",
    "Ca = 33.5\n",
    "pCO2 = 0.005\n",
    "T_C = 15\n",
    "dissRateFromCaPCO2(Ca, pCO2, T_C, method = 'Palmer')"
   ]
  },
  {
   "cell_type": "markdown",
   "id": "f6e6b9b1-ce5b-40e8-955b-de0e09e3cacc",
   "metadata": {},
   "source": [
    "#### Estimating errors on dissolution rates"
   ]
  },
  {
   "cell_type": "markdown",
   "id": "11822166-1393-4171-878f-c8b51fbe38b1",
   "metadata": {},
   "source": [
    "[`olm.calcite.dissRateFromCaPCO2`](https://olm.readthedocs.io/en/master/olm.calcite.dissRateFromCaPCO2.html#olm.calcite.dissRateFromCaPCO2) enables estimation of uncertainty in dissolution rates given uncertainties in Ca and PCO2. These estimates are made using Monte Carlo error propagation."
   ]
  },
  {
   "cell_type": "code",
   "execution_count": null,
   "id": "fefc8db8-c60d-4e90-82aa-b81af9c30e9b",
   "metadata": {},
   "outputs": [],
   "source": [
    "#To estimate uncertainties you set error=True and provide percent errors on Ca and pCO2 (1=100%)\n",
    "rate, rate_err = dissRateFromCaPCO2(Ca,\n",
    "                                    pCO2, \n",
    "                                    T_C, \n",
    "                                    method='Palmer', \n",
    "                                    error=True, \n",
    "                                    Ca_err=0.1, \n",
    "                                    PCO2_err=0.15)\n",
    "\n",
    "print('Dissolution rate is ',rate,'+/-',rate_err,'mm/yr')"
   ]
  },
  {
   "cell_type": "code",
   "execution_count": null,
   "id": "739ecf98-7d44-4c09-b3c1-0557603220bf",
   "metadata": {},
   "outputs": [],
   "source": []
  }
 ],
 "metadata": {
  "kernelspec": {
   "display_name": "Python 3",
   "language": "python",
   "name": "python3"
  },
  "language_info": {
   "codemirror_mode": {
    "name": "ipython",
    "version": 3
   },
   "file_extension": ".py",
   "mimetype": "text/x-python",
   "name": "python",
   "nbconvert_exporter": "python",
   "pygments_lexer": "ipython3",
   "version": "3.8.8"
  }
 },
 "nbformat": 4,
 "nbformat_minor": 5
}
