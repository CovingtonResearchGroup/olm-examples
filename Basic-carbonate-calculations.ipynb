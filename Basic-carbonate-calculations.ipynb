{
 "cells": [
  {
   "cell_type": "markdown",
   "id": "69b85d0c-1090-4771-9845-13c32b62367d",
   "metadata": {},
   "source": [
    "## An Introduction to the Olm python package"
   ]
  },
  {
   "cell_type": "markdown",
   "id": "4c38ea3e-8903-40e8-bd94-84908723f64b",
   "metadata": {},
   "source": [
    "The python [*olm*](https://github.com/CovingtonResearchGroup/olm) package provides a variety of functions to make basic geochemical calculations for carbonate waters. "
   ]
  },
  {
   "cell_type": "markdown",
   "id": "0c37972d-8d6b-4659-803a-e9ab3936b979",
   "metadata": {},
   "source": [
    "## Solution objects"
   ]
  },
  {
   "cell_type": "markdown",
   "id": "6442ebef-59e4-4ff9-90fd-188010090ec2",
   "metadata": {},
   "source": [
    "Many of the functions either create or make use of a [`solution`](https://olm.readthedocs.io/en/master/olm.general.solution.html#olm.general.solution) object, which stores the chemical concentrations and other parameters (e.g. temperature, conductance) of the solution of interest."
   ]
  },
  {
   "cell_type": "markdown",
   "id": "d4ac57f8-49e9-4707-8a1e-6b6bc0b673f0",
   "metadata": {},
   "source": [
    "You can obtain the list of possible ions within a solution object using the `olm.general.getProperties()`"
   ]
  },
  {
   "cell_type": "code",
   "execution_count": 1,
   "id": "48f74bcc-8327-4099-ad94-7c26521737f9",
   "metadata": {},
   "outputs": [],
   "source": [
    "from olm.general import getProperties"
   ]
  },
  {
   "cell_type": "code",
   "execution_count": 2,
   "id": "e06f62b2-1d35-4d15-9470-c7f7eb618aca",
   "metadata": {},
   "outputs": [
    {
     "data": {
      "text/plain": [
       "{'H': {'weight': 1.00794, 'charge': 1.0, 'radius': 9.0},\n",
       " 'Ca': {'weight': 40.08, 'charge': 2.0, 'radius': 6.0},\n",
       " 'Cl': {'weight': 35.46, 'charge': -1.0, 'radius': 3.0},\n",
       " 'CO3': {'weight': 60.01, 'charge': -2.0, 'radius': 4.5},\n",
       " 'HCO3': {'weight': 61.02, 'charge': -1.0, 'radius': 4.0},\n",
       " 'K': {'weight': 39.1, 'charge': 1.0},\n",
       " 'Mg': {'weight': 24.32, 'charge': 2.0, 'radius': 8.0},\n",
       " 'Na': {'weight': 22.99, 'charge': 1.0, 'radius': 4.0},\n",
       " 'NO3': {'weight': 62.01, 'charge': -1.0},\n",
       " 'PO4': {'weight': 94.98, 'charge': -3.0},\n",
       " 'SO4': {'weight': 96.06, 'charge': -2.0, 'radius': 4.0},\n",
       " 'H2CO3': {'weight': 62.03, 'charge': 0.0},\n",
       " 'OH': {'weight': 17.01, 'charge': -1.0, 'radius': 3.0},\n",
       " 'CO2': {'weight': 44.01, 'charge': 0},\n",
       " 'H2CO3s': {'weight': 62.03, 'charge': 0},\n",
       " 'CaCO3': {'weight': 100.09, 'charge': 0}}"
      ]
     },
     "execution_count": 2,
     "metadata": {},
     "output_type": "execute_result"
    }
   ],
   "source": [
    "#The dictionary returned contains the available ions, their weights, charges, and radii.\n",
    "getProperties()"
   ]
  },
  {
   "cell_type": "markdown",
   "id": "6ea09144-1d66-40de-b763-c229885ec7a2",
   "metadata": {},
   "source": [
    "You can create solution objects manually, as below, though this would be a relatively uncommon workflow."
   ]
  },
  {
   "cell_type": "code",
   "execution_count": 23,
   "id": "1d1bddc7-ac89-485b-b23a-b780dbbdaba5",
   "metadata": {},
   "outputs": [],
   "source": [
    "from olm.general import solution\n",
    "\n",
    "#We will create a solution with a few of the species listed above\n",
    "ions = ['Ca','Cl','H2CO3']\n",
    "concentrations = [15,2.5,0.0006]\n",
    "sol = solution(ions,concentrations, units='mg/L')\n"
   ]
  },
  {
   "cell_type": "markdown",
   "id": "5fc6fc02-ba75-4db8-977d-b0d7788e39c2",
   "metadata": {},
   "source": [
    "Solutions have several convenience functions attached to them."
   ]
  },
  {
   "cell_type": "code",
   "execution_count": 29,
   "id": "506533b8-0dc5-47ed-9b4d-cca5c0d3cb6f",
   "metadata": {},
   "outputs": [
    {
     "name": "stdout",
     "output_type": "stream",
     "text": [
      "Cl concentration is = 2.5 mg/L\n",
      "Cl concentration is = 7.050197405527355e-05 mol/L\n",
      "Cl concentration is = -0.07050197405527356 meq/L\n",
      " \n",
      "Activity of Ca is = 0.0003230193806309863 mol/L\n",
      "The charge balance of the solution is 82.78350515463917 %\n"
     ]
    }
   ],
   "source": [
    "#You can retrieve the concentration in mg/L, mol/L or meq using mg(), mol(), or meq()\n",
    "print(\"Cl concentration is =\", sol.mg('Cl'), 'mg/L' )\n",
    "print(\"Cl concentration is =\", sol.mol('Cl'), 'mol/L' )\n",
    "print(\"Cl concentration is =\", sol.meq('Cl'), 'meq/L' )\n",
    "print(\" \")\n",
    "\n",
    "#You can retrieve the activity of a given species\n",
    "print(\"Activity of Ca is =\",sol.activity('Ca'),\"mol/L\")\n",
    "\n",
    "#You can calculate the charge balance\n",
    "print(\"The charge balance of the solution is\", sol.charge_balance(), '%')\n",
    "#Note that the charge doesn't balance well because we used a random set of species concentrations\n",
    "# that aren't physically realistic."
   ]
  },
  {
   "cell_type": "markdown",
   "id": "544e620c-dba7-4c25-b8ed-ef7dee841d30",
   "metadata": {},
   "source": [
    "## The olm.general module"
   ]
  },
  {
   "cell_type": "markdown",
   "id": "8c7f7238-6d82-411b-a014-ec085138e0d4",
   "metadata": {},
   "source": [
    "In addition to defining the `solution` object, the [`olm.general`](https://olm.readthedocs.io/en/master/olm.html#olm-general-module) module contains functions that are useful for some common geochemical calculations. A few examples are given below."
   ]
  },
  {
   "cell_type": "markdown",
   "id": "325b88fb-f700-40bf-a565-717b4de39302",
   "metadata": {},
   "source": [
    "#### Temperature conversion"
   ]
  },
  {
   "cell_type": "code",
   "execution_count": 30,
   "id": "ee479541-754a-4a6c-a8a8-03dd00036eba",
   "metadata": {},
   "outputs": [
    {
     "name": "stdout",
     "output_type": "stream",
     "text": [
      "25 C is equal to 298.15 K\n"
     ]
    }
   ],
   "source": [
    "from olm.general import CtoK, KtoC\n",
    "print('25 C is equal to', CtoK(25), 'K')\n"
   ]
  },
  {
   "cell_type": "markdown",
   "id": "4397eaec-a2ed-4c33-96b4-ff35ffed4985",
   "metadata": {},
   "source": [
    "#### Concentration conversions"
   ]
  },
  {
   "cell_type": "code",
   "execution_count": 32,
   "id": "b6fe714b-5d5e-4dee-8df9-35a4abb28472",
   "metadata": {},
   "outputs": [
    {
     "name": "stdout",
     "output_type": "stream",
     "text": [
      "15 mg/L Ca is 0.00037425149700598805 mol/L Ca\n"
     ]
    }
   ],
   "source": [
    "from olm.general import molL_to_mgL, mgL_to_molL, mmolL_to_meqL, molL_to_meqL\n",
    "\n",
    "#Any of the above functions can be used to convert concentration units for any \n",
    "#species in the getProperties() dictionary shown above using the string that defines \n",
    "#the species.\n",
    "\n",
    "#For example\n",
    "print(\"15 mg/L Ca is\", mgL_to_molL(15, 'Ca'),'mol/L Ca' )\n"
   ]
  },
  {
   "cell_type": "code",
   "execution_count": null,
   "id": "36e4ae11-bf61-4bdb-8823-de1b60e9ae29",
   "metadata": {},
   "outputs": [],
   "source": []
  }
 ],
 "metadata": {
  "kernelspec": {
   "display_name": "Python 3",
   "language": "python",
   "name": "python3"
  },
  "language_info": {
   "codemirror_mode": {
    "name": "ipython",
    "version": 3
   },
   "file_extension": ".py",
   "mimetype": "text/x-python",
   "name": "python",
   "nbconvert_exporter": "python",
   "pygments_lexer": "ipython3",
   "version": "3.8.8"
  }
 },
 "nbformat": 4,
 "nbformat_minor": 5
}
